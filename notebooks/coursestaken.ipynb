{
 "cells": [
  {
   "cell_type": "code",
   "execution_count": 2,
   "metadata": {},
   "outputs": [
    {
     "name": "stdout",
     "output_type": "stream",
     "text": [
      "MATH 20B. Calculus for Science and Engineering, 4 quarter units, UC San Diego, March 2017\n",
      "MATH 18. Linear Algebra, 4 quarter units, UC San Diego, March 2018\n",
      "MATH 20C. Calculus and Analytic Geometry for Science and Engineering, 4 quarter units, UC San Diego, June 2018\n",
      "COGS 14B. Introduction to Statistical Analysis, 4 quarter units, UC San Diego, June 2018\n",
      "MATH 20E. Vector Calculus, 4 quarter units, UC San Diego, August 2018\n",
      "MATH 180A. Introduction to Probability, 4 quarter units, UC San Diego, December 2018\n",
      "COGS 18. Introduction to Python, 4 quarter units, UC San Diego, December 2018\n",
      "MATH 109. Mathematical Reasoning, 4 quarter units, UC San Diego, March 2019\n",
      "COGS 108. Data Science in Practice, 4 quarter units, UC San Diego, March 2019\n",
      "MATH 154. Discrete Mathematics and Graph Theory, 4 quarter units, UC San Diego, June 2019\n",
      "COGS 118A. Supervised Machine Learning Algorithms, 4 quarter units, UC San Diego, June 2019\n",
      "COGS 118C. Neural Signal Processing, 4 quarter units, UC San Diego, September 2019\n",
      "MATH 20D. Introduction to Differential Equations, 4 quarter units, UC San Diego, September 2019\n",
      "COGS 118B. Introduction to Machine Learning, 4 quarter units, UC San Diego, December 2019\n",
      "MATH 130. Differential Equations and Dynamical Systems, 4 quarter units, UC San Diego, December 2019\n",
      "\n"
     ]
    }
   ],
   "source": [
    "school = 'UC San Diego'\n",
    "u = '4 quarter units'\n",
    "f = 'December'\n",
    "w = 'March'\n",
    "s = 'June'\n",
    "s1 = 'August'\n",
    "s2 = 'September'\n",
    "courses = [\n",
    "    ('MATH 20B. Calculus for Science and Engineering (4)', w, 2017),\n",
    "    ('MATH 18. Linear Algebra (4)', w, 2018),\n",
    "    ('MATH 20C. Calculus and Analytic Geometry for Science and Engineering (4)', s, 2018),\n",
    "    ('COGS 14B. Introduction to Statistical Analysis (4)', s, 2018),\n",
    "    ('MATH 20E. Vector Calculus (4)', s1, 2018),\n",
    "    ('MATH 180A. Introduction to Probability (4)', f, 2018),\n",
    "    ('COGS 18. Introduction to Python (4)', f, 2018),\n",
    "    ('MATH 109. Mathematical Reasoning (4)', w, 2019),\n",
    "    ('COGS 108. Data Science in Practice (4)', w, 2019),\n",
    "    ('MATH 154. Discrete Mathematics and Graph Theory (4)', s, 2019),\n",
    "    ('COGS 118A. Supervised Machine Learning Algorithms (4)', s, 2019),\n",
    "    ('COGS 118C. Neural Signal Processing (4)', s2, 2019),\n",
    "    ('MATH 20D. Introduction to Differential Equations (4)', s2, 2019),\n",
    "    ('COGS 118B. Introduction to Machine Learning (4)', f, 2019),\n",
    "    ('MATH 130. Differential Equations and Dynamical Systems (4)', f, 2019),\n",
    "]\n",
    "\n",
    "s = ''\n",
    "for name, mo, y in courses:\n",
    "    name = name.replace(' (4)', '')\n",
    "    entry = f'{name}, 4 quarter units, {school}, {mo} {y}\\n'\n",
    "    s += entry\n",
    "\n",
    "print(s)"
   ]
  },
  {
   "cell_type": "code",
   "execution_count": null,
   "metadata": {},
   "outputs": [],
   "source": []
  }
 ],
 "metadata": {
  "kernelspec": {
   "display_name": "base",
   "language": "python",
   "name": "python3"
  },
  "language_info": {
   "codemirror_mode": {
    "name": "ipython",
    "version": 3
   },
   "file_extension": ".py",
   "mimetype": "text/x-python",
   "name": "python",
   "nbconvert_exporter": "python",
   "pygments_lexer": "ipython3",
   "version": "3.9.13"
  }
 },
 "nbformat": 4,
 "nbformat_minor": 2
}
